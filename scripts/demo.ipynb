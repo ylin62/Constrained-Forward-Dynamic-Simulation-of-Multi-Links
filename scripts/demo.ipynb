{
 "cells": [
  {
   "cell_type": "markdown",
   "metadata": {},
   "source": [
    "# Constrained-Mechanical-Systems-Forward-Dynamic-Simulation-of-Fourbar\n",
    "Multibody dynamics mideling and numerical methods"
   ]
  },
  {
   "cell_type": "markdown",
   "metadata": {},
   "source": [
    "## 1 Explicit calculation of the Lagrange multiplier"
   ]
  },
  {
   "cell_type": "code",
   "execution_count": 1,
   "metadata": {},
   "outputs": [],
   "source": [
    "import numpy as np\n",
    "import sympy as sp\n",
    "from scipy.integrate import solve_ivp\n",
    "import matplotlib.pyplot as plt\n",
    "from Models.models import *"
   ]
  },
  {
   "cell_type": "code",
   "execution_count": 2,
   "metadata": {},
   "outputs": [
    {
     "data": {
      "text/plain": [
       "2"
      ]
     },
     "execution_count": 2,
     "metadata": {},
     "output_type": "execute_result"
    }
   ],
   "source": [
    "t= sp.symbols('t')\n",
    "x = t\n",
    "y = 2 * x\n",
    "sp.lambdify(t, y)(1)"
   ]
  },
  {
   "cell_type": "code",
   "execution_count": 3,
   "metadata": {},
   "outputs": [
    {
     "data": {
      "text/latex": [
       "$\\displaystyle \\left[\\begin{matrix}\\operatorname{x_{c1}}{\\left(t \\right)} - 0.5 \\cos{\\left(\\theta_{1}{\\left(t \\right)} \\right)}\\\\\\operatorname{y_{c1}}{\\left(t \\right)} - 0.5 \\sin{\\left(\\theta_{1}{\\left(t \\right)} \\right)}\\\\\\operatorname{x_{c2}}{\\left(t \\right)} - \\cos{\\left(\\theta_{1}{\\left(t \\right)} \\right)} - 0.5 \\cos{\\left(\\theta_{2}{\\left(t \\right)} \\right)}\\\\\\operatorname{y_{c2}}{\\left(t \\right)} - \\sin{\\left(\\theta_{1}{\\left(t \\right)} \\right)} - 0.5 \\sin{\\left(\\theta_{2}{\\left(t \\right)} \\right)}\\\\\\operatorname{x_{c3}}{\\left(t \\right)} - \\cos{\\left(\\theta_{1}{\\left(t \\right)} \\right)} - \\cos{\\left(\\theta_{2}{\\left(t \\right)} \\right)} - 0.5 \\cos{\\left(\\theta_{3}{\\left(t \\right)} \\right)}\\\\\\operatorname{y_{c3}}{\\left(t \\right)} - \\sin{\\left(\\theta_{1}{\\left(t \\right)} \\right)} - \\sin{\\left(\\theta_{2}{\\left(t \\right)} \\right)} - 0.5 \\sin{\\left(\\theta_{3}{\\left(t \\right)} \\right)}\\\\\\cos{\\left(\\theta_{1}{\\left(t \\right)} \\right)} + \\cos{\\left(\\theta_{2}{\\left(t \\right)} \\right)} + \\cos{\\left(\\theta_{3}{\\left(t \\right)} \\right)} - 1\\\\\\sin{\\left(\\theta_{1}{\\left(t \\right)} \\right)} + \\sin{\\left(\\theta_{2}{\\left(t \\right)} \\right)} + \\sin{\\left(\\theta_{3}{\\left(t \\right)} \\right)}\\end{matrix}\\right]$"
      ],
      "text/plain": [
       "Matrix([\n",
       "[                                    x_c1(t) - 0.5*cos(theta_1(t))],\n",
       "[                                    y_c1(t) - 0.5*sin(theta_1(t))],\n",
       "[                  x_c2(t) - cos(theta_1(t)) - 0.5*cos(theta_2(t))],\n",
       "[                  y_c2(t) - sin(theta_1(t)) - 0.5*sin(theta_2(t))],\n",
       "[x_c3(t) - cos(theta_1(t)) - cos(theta_2(t)) - 0.5*cos(theta_3(t))],\n",
       "[y_c3(t) - sin(theta_1(t)) - sin(theta_2(t)) - 0.5*sin(theta_3(t))],\n",
       "[          cos(theta_1(t)) + cos(theta_2(t)) + cos(theta_3(t)) - 1],\n",
       "[              sin(theta_1(t)) + sin(theta_2(t)) + sin(theta_3(t))]])"
      ]
     },
     "execution_count": 3,
     "metadata": {},
     "output_type": "execute_result"
    }
   ],
   "source": [
    "Demo = ExplictModel(m=[1, 1, 1], l=[1, 1, 1, 1], \n",
    "                    potiential_field=[0, 9.81, 0, 0, 9.81, 0, 0, 9.81, 0], \n",
    "                    close_chain=True, \n",
    "                    external_input=[0, 0, 5, 0, 0, 0, 0, 0, 0], \n",
    "                    damping=None)\n",
    "Demo.constrains()"
   ]
  },
  {
   "cell_type": "code",
   "execution_count": null,
   "metadata": {},
   "outputs": [],
   "source": []
  }
 ],
 "metadata": {
  "kernelspec": {
   "display_name": "Python 3",
   "language": "python",
   "name": "python3"
  },
  "language_info": {
   "codemirror_mode": {
    "name": "ipython",
    "version": 3
   },
   "file_extension": ".py",
   "mimetype": "text/x-python",
   "name": "python",
   "nbconvert_exporter": "python",
   "pygments_lexer": "ipython3",
   "version": "3.8.2"
  }
 },
 "nbformat": 4,
 "nbformat_minor": 4
}
