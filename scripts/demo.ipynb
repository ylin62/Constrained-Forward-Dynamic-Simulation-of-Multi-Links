{
 "cells": [
  {
   "cell_type": "markdown",
   "metadata": {},
   "source": [
    "# Constrained-Mechanical-Systems-Forward-Dynamic-Simulation-of-Fourbar\n",
    "Multibody dynamics mideling and numerical methods"
   ]
  },
  {
   "cell_type": "markdown",
   "metadata": {},
   "source": [
    "## 1 Explicit calculation of the Lagrange multiplier"
   ]
  },
  {
   "cell_type": "code",
   "execution_count": 1,
   "metadata": {},
   "outputs": [],
   "source": [
    "import time\n",
    "import numpy as np\n",
    "import sympy as sp\n",
    "from scipy.integrate import solve_ivp\n",
    "import matplotlib.pyplot as plt\n",
    "from IPython.display import display, Markdown, Math\n",
    "from Models.models import *"
   ]
  },
  {
   "cell_type": "code",
   "execution_count": 2,
   "metadata": {},
   "outputs": [],
   "source": [
    "y = np.append([0, 0.5, np.pi/2, 1.8765, 1.692, 0.3533, 3.3765, 1.192, -1.8767], np.zeros(9))\n",
    "Demo = ExplictModel(m=[1, 1, 1], l=[1, 4, 2.5, 3], \n",
    "                    potiential_field=[0, -9.81, 0, 0, -9.81, 0, 0, -9.81, 0], \n",
    "                    close_chain=True, \n",
    "                    external_input=[0, 0, 5, 0, 0, 0, 0, 0, 0], \n",
    "                    damping=None)"
   ]
  },
  {
   "cell_type": "code",
   "execution_count": 3,
   "metadata": {},
   "outputs": [
    {
     "data": {
      "text/markdown": [
       "System constrains:"
      ],
      "text/plain": [
       "<IPython.core.display.Markdown object>"
      ]
     },
     "metadata": {},
     "output_type": "display_data"
    },
    {
     "data": {
      "text/latex": [
       "$\\displaystyle \\operatorname{x_{c1}}{\\left(t \\right)} - 0.5 \\cos{\\left(\\theta_{1}{\\left(t \\right)} \\right)} = 0$"
      ],
      "text/plain": [
       "Eq(x_c1(t) - 0.5*cos(theta_1(t)), 0)"
      ]
     },
     "metadata": {},
     "output_type": "display_data"
    },
    {
     "data": {
      "text/latex": [
       "$\\displaystyle \\operatorname{y_{c1}}{\\left(t \\right)} - 0.5 \\sin{\\left(\\theta_{1}{\\left(t \\right)} \\right)} = 0$"
      ],
      "text/plain": [
       "Eq(y_c1(t) - 0.5*sin(theta_1(t)), 0)"
      ]
     },
     "metadata": {},
     "output_type": "display_data"
    },
    {
     "data": {
      "text/latex": [
       "$\\displaystyle \\operatorname{x_{c2}}{\\left(t \\right)} - 1.0 \\cos{\\left(\\theta_{1}{\\left(t \\right)} \\right)} - 2.0 \\cos{\\left(\\theta_{2}{\\left(t \\right)} \\right)} = 0$"
      ],
      "text/plain": [
       "Eq(x_c2(t) - 1.0*cos(theta_1(t)) - 2.0*cos(theta_2(t)), 0)"
      ]
     },
     "metadata": {},
     "output_type": "display_data"
    },
    {
     "data": {
      "text/latex": [
       "$\\displaystyle \\operatorname{y_{c2}}{\\left(t \\right)} - 1.0 \\sin{\\left(\\theta_{1}{\\left(t \\right)} \\right)} - 2.0 \\sin{\\left(\\theta_{2}{\\left(t \\right)} \\right)} = 0$"
      ],
      "text/plain": [
       "Eq(y_c2(t) - 1.0*sin(theta_1(t)) - 2.0*sin(theta_2(t)), 0)"
      ]
     },
     "metadata": {},
     "output_type": "display_data"
    },
    {
     "data": {
      "text/latex": [
       "$\\displaystyle \\operatorname{x_{c3}}{\\left(t \\right)} - 1.0 \\cos{\\left(\\theta_{1}{\\left(t \\right)} \\right)} - 4.0 \\cos{\\left(\\theta_{2}{\\left(t \\right)} \\right)} - 1.25 \\cos{\\left(\\theta_{3}{\\left(t \\right)} \\right)} = 0$"
      ],
      "text/plain": [
       "Eq(x_c3(t) - 1.0*cos(theta_1(t)) - 4.0*cos(theta_2(t)) - 1.25*cos(theta_3(t)), 0)"
      ]
     },
     "metadata": {},
     "output_type": "display_data"
    },
    {
     "data": {
      "text/latex": [
       "$\\displaystyle \\operatorname{y_{c3}}{\\left(t \\right)} - 1.0 \\sin{\\left(\\theta_{1}{\\left(t \\right)} \\right)} - 4.0 \\sin{\\left(\\theta_{2}{\\left(t \\right)} \\right)} - 1.25 \\sin{\\left(\\theta_{3}{\\left(t \\right)} \\right)} = 0$"
      ],
      "text/plain": [
       "Eq(y_c3(t) - 1.0*sin(theta_1(t)) - 4.0*sin(theta_2(t)) - 1.25*sin(theta_3(t)), 0)"
      ]
     },
     "metadata": {},
     "output_type": "display_data"
    },
    {
     "data": {
      "text/latex": [
       "$\\displaystyle 1.0 \\cos{\\left(\\theta_{1}{\\left(t \\right)} \\right)} + 4.0 \\cos{\\left(\\theta_{2}{\\left(t \\right)} \\right)} + 2.5 \\cos{\\left(\\theta_{3}{\\left(t \\right)} \\right)} - 3.0 = 0$"
      ],
      "text/plain": [
       "Eq(1.0*cos(theta_1(t)) + 4.0*cos(theta_2(t)) + 2.5*cos(theta_3(t)) - 3.0, 0)"
      ]
     },
     "metadata": {},
     "output_type": "display_data"
    },
    {
     "data": {
      "text/latex": [
       "$\\displaystyle 1.0 \\sin{\\left(\\theta_{1}{\\left(t \\right)} \\right)} + 4.0 \\sin{\\left(\\theta_{2}{\\left(t \\right)} \\right)} + 2.5 \\sin{\\left(\\theta_{3}{\\left(t \\right)} \\right)} = 0$"
      ],
      "text/plain": [
       "Eq(1.0*sin(theta_1(t)) + 4.0*sin(theta_2(t)) + 2.5*sin(theta_3(t)), 0)"
      ]
     },
     "metadata": {},
     "output_type": "display_data"
    }
   ],
   "source": [
    "display(Markdown(\"System constrains:\"))\n",
    "constrains = Demo.constrains()\n",
    "for item in constrains:\n",
    "    display(sp.Eq(item, 0))"
   ]
  },
  {
   "cell_type": "code",
   "execution_count": 4,
   "metadata": {},
   "outputs": [
    {
     "name": "stdout",
     "output_type": "stream",
     "text": [
      "0.9298672676086426\n"
     ]
    }
   ],
   "source": [
    "t0 = time.time()\n",
    "sol = solve_ivp(Demo.sim, [0, 10], y, method='RK23')\n",
    "print(time.time() - t0)"
   ]
  },
  {
   "cell_type": "code",
   "execution_count": 2,
   "metadata": {},
   "outputs": [],
   "source": [
    "Demo = ExplictModel(m=[1, 1], l=[1, 1], \n",
    "                    potiential_field=[0, -9.81, 0, 0, -9.81, 0], \n",
    "                    close_chain=False, \n",
    "                    external_input=None, \n",
    "                    damping=None)"
   ]
  },
  {
   "cell_type": "code",
   "execution_count": 3,
   "metadata": {},
   "outputs": [
    {
     "data": {
      "text/markdown": [
       "System constrains:"
      ],
      "text/plain": [
       "<IPython.core.display.Markdown object>"
      ]
     },
     "metadata": {},
     "output_type": "display_data"
    },
    {
     "data": {
      "text/latex": [
       "$\\displaystyle \\operatorname{x_{c1}}{\\left(t \\right)} - 0.5 \\cos{\\left(\\theta_{1}{\\left(t \\right)} \\right)} = 0$"
      ],
      "text/plain": [
       "Eq(x_c1(t) - 0.5*cos(theta_1(t)), 0)"
      ]
     },
     "metadata": {},
     "output_type": "display_data"
    },
    {
     "data": {
      "text/latex": [
       "$\\displaystyle \\operatorname{y_{c1}}{\\left(t \\right)} - 0.5 \\sin{\\left(\\theta_{1}{\\left(t \\right)} \\right)} = 0$"
      ],
      "text/plain": [
       "Eq(y_c1(t) - 0.5*sin(theta_1(t)), 0)"
      ]
     },
     "metadata": {},
     "output_type": "display_data"
    },
    {
     "data": {
      "text/latex": [
       "$\\displaystyle \\operatorname{x_{c2}}{\\left(t \\right)} - \\cos{\\left(\\theta_{1}{\\left(t \\right)} \\right)} - 0.5 \\cos{\\left(\\theta_{2}{\\left(t \\right)} \\right)} = 0$"
      ],
      "text/plain": [
       "Eq(x_c2(t) - cos(theta_1(t)) - 0.5*cos(theta_2(t)), 0)"
      ]
     },
     "metadata": {},
     "output_type": "display_data"
    },
    {
     "data": {
      "text/latex": [
       "$\\displaystyle \\operatorname{y_{c2}}{\\left(t \\right)} - \\sin{\\left(\\theta_{1}{\\left(t \\right)} \\right)} - 0.5 \\sin{\\left(\\theta_{2}{\\left(t \\right)} \\right)} = 0$"
      ],
      "text/plain": [
       "Eq(y_c2(t) - sin(theta_1(t)) - 0.5*sin(theta_2(t)), 0)"
      ]
     },
     "metadata": {},
     "output_type": "display_data"
    }
   ],
   "source": [
    "display(Markdown(\"System constrains:\"))\n",
    "constrains = Demo.constrains()\n",
    "for item in constrains:\n",
    "    display(sp.Eq(item, 0))"
   ]
  },
  {
   "cell_type": "code",
   "execution_count": 4,
   "metadata": {},
   "outputs": [
    {
     "name": "stdout",
     "output_type": "stream",
     "text": [
      "(12, 43)\n"
     ]
    }
   ],
   "source": [
    "y = np.append([1, 0, 0, 2, 0, 0], np.zeros(6))\n",
    "sol = solve_ivp(Demo.sim, [0, 5], y, method='DOP853')\n",
    "print(sol.y.shape)"
   ]
  },
  {
   "cell_type": "code",
   "execution_count": 7,
   "metadata": {},
   "outputs": [
    {
     "data": {
      "image/png": "[encoded data removed]",
      "text/plain": [
       "<Figure size 1152x720 with 1 Axes>"
      ]
     },
     "metadata": {},
     "output_type": "display_data"
    }
   ],
   "source": [
    "from utils.plot_solution import *\n",
    "plot_solution(sol.y.T[15], n_rod=2, l=[1, 1], rot=None)"
   ]
  },
  {
   "cell_type": "code",
   "execution_count": 6,
   "metadata": {},
   "outputs": [
    {
     "data": {
      "text/latex": [
       "$\\displaystyle \\left[\\begin{matrix}\\lambda_{1} \\left(\\operatorname{x_{c1}}{\\left(t \\right)} - 0.5 \\cos{\\left(\\theta_{1}{\\left(t \\right)} \\right)}\\right) + \\lambda_{2} \\left(\\operatorname{y_{c1}}{\\left(t \\right)} - 0.5 \\sin{\\left(\\theta_{1}{\\left(t \\right)} \\right)}\\right) + \\lambda_{3} \\left(\\operatorname{x_{c2}}{\\left(t \\right)} - \\cos{\\left(\\theta_{1}{\\left(t \\right)} \\right)} - 0.5 \\cos{\\left(\\theta_{2}{\\left(t \\right)} \\right)}\\right) + \\lambda_{4} \\left(\\operatorname{y_{c2}}{\\left(t \\right)} - \\sin{\\left(\\theta_{1}{\\left(t \\right)} \\right)} - 0.5 \\sin{\\left(\\theta_{2}{\\left(t \\right)} \\right)}\\right) + 9.81 \\operatorname{y_{c1}}{\\left(t \\right)} + 9.81 \\operatorname{y_{c2}}{\\left(t \\right)} + 0.0416666666666667 \\left(\\frac{d}{d t} \\theta_{1}{\\left(t \\right)}\\right)^{2} + 0.0416666666666667 \\left(\\frac{d}{d t} \\theta_{2}{\\left(t \\right)}\\right)^{2} + 0.5 \\left(\\frac{d}{d t} \\operatorname{x_{c1}}{\\left(t \\right)}\\right)^{2} + 0.5 \\left(\\frac{d}{d t} \\operatorname{x_{c2}}{\\left(t \\right)}\\right)^{2} + 0.5 \\left(\\frac{d}{d t} \\operatorname{y_{c1}}{\\left(t \\right)}\\right)^{2} + 0.5 \\left(\\frac{d}{d t} \\operatorname{y_{c2}}{\\left(t \\right)}\\right)^{2}\\end{matrix}\\right]$"
      ],
      "text/plain": [
       "Matrix([[lamda_1*(x_c1(t) - 0.5*cos(theta_1(t))) + lamda_2*(y_c1(t) - 0.5*sin(theta_1(t))) + lamda_3*(x_c2(t) - cos(theta_1(t)) - 0.5*cos(theta_2(t))) + lamda_4*(y_c2(t) - sin(theta_1(t)) - 0.5*sin(theta_2(t))) + 9.81*y_c1(t) + 9.81*y_c2(t) + 0.0416666666666667*Derivative(theta_1(t), t)**2 + 0.0416666666666667*Derivative(theta_2(t), t)**2 + 0.5*Derivative(x_c1(t), t)**2 + 0.5*Derivative(x_c2(t), t)**2 + 0.5*Derivative(y_c1(t), t)**2 + 0.5*Derivative(y_c2(t), t)**2]])"
      ]
     },
     "execution_count": 6,
     "metadata": {},
     "output_type": "execute_result"
    }
   ],
   "source": [
    "Demo.lagrangian()"
   ]
  },
  {
   "cell_type": "code",
   "execution_count": null,
   "metadata": {},
   "outputs": [],
   "source": []
  }
 ],
 "metadata": {
  "kernelspec": {
   "display_name": "Python 3",
   "language": "python",
   "name": "python3"
  },
  "language_info": {
   "codemirror_mode": {
    "name": "ipython",
    "version": 3
   },
   "file_extension": ".py",
   "mimetype": "text/x-python",
   "name": "python",
   "nbconvert_exporter": "python",
   "pygments_lexer": "ipython3",
   "version": "3.8.2"
  }
 },
 "nbformat": 4,
 "nbformat_minor": 4
}
